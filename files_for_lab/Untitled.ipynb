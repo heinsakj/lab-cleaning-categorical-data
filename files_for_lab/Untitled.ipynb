{
 "cells": [
  {
   "cell_type": "markdown",
   "id": "b4e54a2c",
   "metadata": {},
   "source": [
    "#### 1. Import libraries"
   ]
  },
  {
   "cell_type": "code",
   "execution_count": null,
   "id": "effc8d42",
   "metadata": {},
   "outputs": [],
   "source": [
    "import pandas as pd\n",
    "import seaborn as sns\n",
    "import matplotlib.pyplot as plt\n",
    "import numpy as np"
   ]
  },
  {
   "cell_type": "markdown",
   "id": "7aad4c88",
   "metadata": {},
   "source": [
    "#### 2. Load the dataframe"
   ]
  },
  {
   "cell_type": "code",
   "execution_count": null,
   "id": "adbb7e41",
   "metadata": {},
   "outputs": [],
   "source": [
    "customer_df = pd.read_csv('we_fn_use_c_marketing_customer_value_analysis.csv')"
   ]
  },
  {
   "cell_type": "markdown",
   "id": "56574f4f",
   "metadata": {},
   "source": [
    "#### 3. Look at the main features"
   ]
  },
  {
   "cell_type": "code",
   "execution_count": null,
   "id": "ab1cf94c",
   "metadata": {},
   "outputs": [],
   "source": [
    "display(customer_df.head())\n",
    "display(customer_df.shape)\n",
    "display(customer_df.info())"
   ]
  },
  {
   "cell_type": "markdown",
   "id": "a3317c9d",
   "metadata": {},
   "source": [
    "### Data Cleaning"
   ]
  },
  {
   "cell_type": "markdown",
   "id": "1961ecc2",
   "metadata": {},
   "source": [
    "#### 4. Rename the columns so they follow the PE8 (snake case (lower_case_with_underscores"
   ]
  },
  {
   "cell_type": "code",
   "execution_count": null,
   "id": "d81cbdae",
   "metadata": {},
   "outputs": [],
   "source": [
    "customer_df.columns = [colname.lower().replace(' ','_') for colname in customer_df.columns]\n",
    "display(customer_df.head(50))\n",
    "pd.set_option('display.max_columns', 500)"
   ]
  },
  {
   "cell_type": "markdown",
   "id": "df0ba279",
   "metadata": {},
   "source": [
    "#### 5. Change effective to date column to datetime format."
   ]
  },
  {
   "cell_type": "code",
   "execution_count": null,
   "id": "613bcb57",
   "metadata": {},
   "outputs": [],
   "source": [
    "customer_df['effective_to_date'] = pd.to_datetime(customer_df['effective_to_date'])\n",
    "customer_df['effective_to_date']"
   ]
  },
  {
   "cell_type": "markdown",
   "id": "d010bff9",
   "metadata": {},
   "source": [
    "#### 6. Define a function that differentiates between continuous and discrete variable"
   ]
  },
  {
   "cell_type": "code",
   "execution_count": null,
   "id": "e0cd84b5",
   "metadata": {},
   "outputs": [],
   "source": [
    "numericals = customer_df.select_dtypes(include = np.number)\n",
    "display(numericals.nunique())\n",
    "\n",
    "display(numericals.nunique()/len(numericals))\n",
    "numericals"
   ]
  },
  {
   "cell_type": "code",
   "execution_count": null,
   "id": "2c0ebc74",
   "metadata": {},
   "outputs": [],
   "source": [
    "continous_name = []\n",
    "discrete_name = []\n",
    "for i in numericals:\n",
    "    if numericals[i].nunique()/len(numericals) < 0.03:\n",
    "        discrete_name.append(i)\n",
    "    else:\n",
    "        continous_name.append(i)"
   ]
  },
  {
   "cell_type": "code",
   "execution_count": null,
   "id": "1453ef69",
   "metadata": {},
   "outputs": [],
   "source": [
    "discrete_df = customer_df[discrete_name]\n",
    "display(discrete_df)\n",
    "\n",
    "continous_df = customer_df[continous_name]\n",
    "display(continous_df)"
   ]
  },
  {
   "cell_type": "code",
   "execution_count": null,
   "id": "d0614566",
   "metadata": {},
   "outputs": [],
   "source": [
    "# # Can also be written in a function\n",
    "# def cont_disc(df):\n",
    "    \n",
    "#     continous_name = []\n",
    "#     discrete_name = []\n",
    "    \n",
    "#     for col in df:\n",
    "#         if df[col].nunique()/len(df) < 0.03:\n",
    "#             discrete_name.append(col)\n",
    "#         else:\n",
    "#             continous_name.append(col)\n",
    "    \n",
    "#   return discrete_name, continous_name   \n",
    "\n",
    "# disc_col, cont_col = cont_disc(numericals)\n",
    "# print(disc_col)\n",
    "# cont_col"
   ]
  },
  {
   "cell_type": "markdown",
   "id": "18f8f166",
   "metadata": {},
   "source": [
    "#### 7. Plot a correlation matrix"
   ]
  },
  {
   "cell_type": "code",
   "execution_count": null,
   "id": "cac8e4e3",
   "metadata": {},
   "outputs": [],
   "source": [
    "correlation_matrix = customer_df.corr().round(2)\n",
    "correlation_matrix\n",
    "\n",
    "fig, corr_heatmap=plt.subplots(figsize=(8,6))\n",
    "corr_heatmap = sns.heatmap(correlation_matrix, annot=True)\n",
    "plt.show()"
   ]
  },
  {
   "cell_type": "markdown",
   "id": "3b828503",
   "metadata": {},
   "source": [
    "- There is a higher correlation between \"monthly premium auto\" and \"total_claim_amount\" of 0.63\n",
    "- As well as between \"monthly_premium_auto\" and \"customer_lifetime_value\" of 0.4\n",
    "- There is no correlation at all between \"number_of_policies\" and \"number_of_open_complaints\"\n",
    "- No correlation between income and months_since_policy_inception, months_since_policy_inception and number_of_open_complaints"
   ]
  },
  {
   "cell_type": "markdown",
   "id": "fa03a53e",
   "metadata": {},
   "source": [
    "#### 8. Create a function to plot every discrete variable. Do the same with the continuous variables"
   ]
  },
  {
   "cell_type": "code",
   "execution_count": null,
   "id": "9aee678c",
   "metadata": {},
   "outputs": [],
   "source": [
    "# for discrete values\n",
    "for i in discrete_df:\n",
    "    sns.displot(discrete_df[i])\n",
    "    plt.show()"
   ]
  },
  {
   "cell_type": "code",
   "execution_count": null,
   "id": "51d1cf66",
   "metadata": {},
   "outputs": [],
   "source": [
    "for i in continous_df:\n",
    "    sns.displot(continous_df[i], bins = 30)\n",
    "    plt.show()"
   ]
  },
  {
   "cell_type": "markdown",
   "id": "f90dd3d6",
   "metadata": {},
   "source": [
    "#### 9. Comment what you can see in the plots"
   ]
  },
  {
   "cell_type": "markdown",
   "id": "f14c5bbb",
   "metadata": {},
   "source": [
    "- Could think about turning the discrete values into objects\n",
    "- Customer_lifetime_value has a big range of values, could transform into log to analyze better\n",
    "- income has a lot of values that are close to 0. Should look at them more closely"
   ]
  },
  {
   "cell_type": "markdown",
   "id": "69717830",
   "metadata": {},
   "source": [
    "#### 10. Look for outliers in the continuous variables"
   ]
  },
  {
   "cell_type": "code",
   "execution_count": null,
   "id": "6b004c0f",
   "metadata": {},
   "outputs": [],
   "source": [
    "for i in continous_df:\n",
    "    sns.boxplot(continous_df[i])\n",
    "    plt.show()"
   ]
  },
  {
   "cell_type": "markdown",
   "id": "4788140b",
   "metadata": {},
   "source": [
    "#### 11. Did you find outliers? Comment what you will do with them."
   ]
  },
  {
   "cell_type": "code",
   "execution_count": null,
   "id": "faa50e8a",
   "metadata": {},
   "outputs": [],
   "source": [
    "# number of policies\n",
    "extraordinary_points_income = customer_df[customer_df['income'] < 10] #from the boxplot we can see that anything above 200 should be removed instead of the traditional way seen above\n",
    "print(\"The no of outliers for income is\",len(extraordinary_points_income))\n",
    "\n",
    "# total claim amount\n",
    "extraordinary_points_claim = customer_df[customer_df['total_claim_amount'] >2500] #from the boxplot we can see that anything above 200 should be removed instead of the traditional way seen above\n",
    "print(\"The no of outliers for total claim amount is\",len(extraordinary_points_claim))\n",
    "\n",
    "# total claim amount\n",
    "extraordinary_points_clv = customer_df[customer_df['customer_lifetime_value'] >55000] #from the boxplot we can see that anything above 200 should be removed instead of the traditional way seen above\n",
    "print(\"The no of outliers for customer lifetime value is\",len(extraordinary_points_clv))"
   ]
  },
  {
   "cell_type": "markdown",
   "id": "4d84c051",
   "metadata": {},
   "source": [
    "##### What will I do with the outliers?\n",
    "- Keep the outliers for income as they are too many.\n",
    "- Delete the outliers for total claim amount and customer lifetime value"
   ]
  },
  {
   "cell_type": "code",
   "execution_count": null,
   "id": "cf6aba8b",
   "metadata": {},
   "outputs": [],
   "source": []
  }
 ],
 "metadata": {
  "kernelspec": {
   "display_name": "Python 3 (ipykernel)",
   "language": "python",
   "name": "python3"
  },
  "language_info": {
   "codemirror_mode": {
    "name": "ipython",
    "version": 3
   },
   "file_extension": ".py",
   "mimetype": "text/x-python",
   "name": "python",
   "nbconvert_exporter": "python",
   "pygments_lexer": "ipython3",
   "version": "3.9.13"
  }
 },
 "nbformat": 4,
 "nbformat_minor": 5
}
